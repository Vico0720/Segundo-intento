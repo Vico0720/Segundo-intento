{
 "cells": [
  {
   "cell_type": "markdown",
   "id": "ced4bab8-8416-41c3-b6e2-10d6e6d16c63",
   "metadata": {},
   "source": [
    "# Matriz de rigidez lateral de un portico plano"
   ]
  },
  {
   "cell_type": "code",
   "execution_count": 2,
   "id": "f9148c08-7deb-4aba-9624-201a575df017",
   "metadata": {},
   "outputs": [
    {
     "name": "stdin",
     "output_type": "stream",
     "text": [
      "Ingrese su nombre:  Joselyn\n"
     ]
    },
    {
     "name": "stdout",
     "output_type": "stream",
     "text": [
      "Hola, Joselyn! Este es un programa simple en Python.\n"
     ]
    }
   ],
   "source": [
    "# Ejemplo de programa simple en Python\n",
    "nombre = input(\"Ingrese su nombre: \")\n",
    "print(\"Hola, \" + nombre + \"! Este es un programa simple en Python.\")\n"
   ]
  },
  {
   "cell_type": "code",
   "execution_count": null,
   "id": "bdd535f2-067d-4c2e-beeb-640a81074327",
   "metadata": {},
   "outputs": [],
   "source": []
  }
 ],
 "metadata": {
  "kernelspec": {
   "display_name": "Python 3 (ipykernel)",
   "language": "python",
   "name": "python3"
  },
  "language_info": {
   "codemirror_mode": {
    "name": "ipython",
    "version": 3
   },
   "file_extension": ".py",
   "mimetype": "text/x-python",
   "name": "python",
   "nbconvert_exporter": "python",
   "pygments_lexer": "ipython3",
   "version": "3.8.10"
  }
 },
 "nbformat": 4,
 "nbformat_minor": 5
}
